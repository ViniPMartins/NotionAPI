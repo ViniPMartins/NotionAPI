{
 "cells": [
  {
   "cell_type": "code",
   "execution_count": 5,
   "metadata": {},
   "outputs": [
    {
     "data": {
      "text/plain": [
       "True"
      ]
     },
     "execution_count": 5,
     "metadata": {},
     "output_type": "execute_result"
    }
   ],
   "source": [
    "import requests\n",
    "import json\n",
    "import pandas as pd\n",
    "import os\n",
    "from dotenv import load_dotenv\n",
    "load_dotenv()"
   ]
  },
  {
   "cell_type": "code",
   "execution_count": 7,
   "metadata": {},
   "outputs": [],
   "source": [
    "API_TOKEN = os.getenv(\"API_TOKEN\")\n",
    "DATABASE_ID = os.getenv(\"DATABASE_ID\")\n",
    "URL_API = f\"https://api.notion.com/v1/databases/{DATABASE_ID}/query\"\n",
    "\n",
    "headers = {\n",
    "    \"Authorization\":\"Bearer \" + API_TOKEN,\n",
    "    \"Notion-Version\":\"2022-06-28\",\n",
    "    \"Content-Type\":\"application/json\"\n",
    "}\n",
    "\n",
    "response = requests.post(URL_API, headers=headers)\n",
    "\n",
    "data = response.json()"
   ]
  },
  {
   "cell_type": "code",
   "execution_count": 8,
   "metadata": {},
   "outputs": [],
   "source": [
    "data_transform = {\n",
    "    'names_projects':[],\n",
    "    'status_project':[]\n",
    "}\n",
    "\n",
    "for result in data['results']:\n",
    "    name_project = result['properties']['Project name']['title'][0]['text']['content']\n",
    "    status = result['properties']['Status']['status']['name']\n",
    "    \n",
    "    data_transform['names_projects'].append(name_project)\n",
    "    data_transform['status_project'].append(status)"
   ]
  },
  {
   "cell_type": "code",
   "execution_count": 9,
   "metadata": {},
   "outputs": [
    {
     "data": {
      "text/html": [
       "<div>\n",
       "<style scoped>\n",
       "    .dataframe tbody tr th:only-of-type {\n",
       "        vertical-align: middle;\n",
       "    }\n",
       "\n",
       "    .dataframe tbody tr th {\n",
       "        vertical-align: top;\n",
       "    }\n",
       "\n",
       "    .dataframe thead th {\n",
       "        text-align: right;\n",
       "    }\n",
       "</style>\n",
       "<table border=\"1\" class=\"dataframe\">\n",
       "  <thead>\n",
       "    <tr style=\"text-align: right;\">\n",
       "      <th></th>\n",
       "      <th>names_projects</th>\n",
       "      <th>status_project</th>\n",
       "    </tr>\n",
       "  </thead>\n",
       "  <tbody>\n",
       "    <tr>\n",
       "      <th>0</th>\n",
       "      <td>Atualizar Dashboard Diretoria</td>\n",
       "      <td>In Progress</td>\n",
       "    </tr>\n",
       "    <tr>\n",
       "      <th>1</th>\n",
       "      <td>Relatórios RAPP (Solicitação Meio Ambiente)</td>\n",
       "      <td>Done</td>\n",
       "    </tr>\n",
       "    <tr>\n",
       "      <th>2</th>\n",
       "      <td>Atualizar Dashboard Diretoria</td>\n",
       "      <td>Done</td>\n",
       "    </tr>\n",
       "    <tr>\n",
       "      <th>3</th>\n",
       "      <td>Reformulação Arquivos para 2024</td>\n",
       "      <td>Done</td>\n",
       "    </tr>\n",
       "    <tr>\n",
       "      <th>4</th>\n",
       "      <td>Criar Centros de Custo ADM Fazendas</td>\n",
       "      <td>Done</td>\n",
       "    </tr>\n",
       "    <tr>\n",
       "      <th>5</th>\n",
       "      <td>Planilha Jurídico</td>\n",
       "      <td>Done</td>\n",
       "    </tr>\n",
       "    <tr>\n",
       "      <th>6</th>\n",
       "      <td>Relatórios de Auditoria</td>\n",
       "      <td>Done</td>\n",
       "    </tr>\n",
       "    <tr>\n",
       "      <th>7</th>\n",
       "      <td>Orçamento 2024</td>\n",
       "      <td>Done</td>\n",
       "    </tr>\n",
       "    <tr>\n",
       "      <th>8</th>\n",
       "      <td>Reatório Financeiro - Lizandra</td>\n",
       "      <td>Canceled</td>\n",
       "    </tr>\n",
       "    <tr>\n",
       "      <th>9</th>\n",
       "      <td>Demandas Diversas</td>\n",
       "      <td>Backlog</td>\n",
       "    </tr>\n",
       "    <tr>\n",
       "      <th>10</th>\n",
       "      <td>Relatórios RH</td>\n",
       "      <td>Canceled</td>\n",
       "    </tr>\n",
       "    <tr>\n",
       "      <th>11</th>\n",
       "      <td>Parametrização Modelo de Custos Fazendas</td>\n",
       "      <td>Done</td>\n",
       "    </tr>\n",
       "    <tr>\n",
       "      <th>12</th>\n",
       "      <td>Reuniões</td>\n",
       "      <td>Backlog</td>\n",
       "    </tr>\n",
       "    <tr>\n",
       "      <th>13</th>\n",
       "      <td>Atualizar reunião dos gestores para dia 20</td>\n",
       "      <td>Done</td>\n",
       "    </tr>\n",
       "    <tr>\n",
       "      <th>14</th>\n",
       "      <td>Planilha Pesquisa Clima</td>\n",
       "      <td>Done</td>\n",
       "    </tr>\n",
       "    <tr>\n",
       "      <th>15</th>\n",
       "      <td>Relatórios Pós-Fechamento</td>\n",
       "      <td>Done</td>\n",
       "    </tr>\n",
       "  </tbody>\n",
       "</table>\n",
       "</div>"
      ],
      "text/plain": [
       "                                 names_projects status_project\n",
       "0                 Atualizar Dashboard Diretoria    In Progress\n",
       "1   Relatórios RAPP (Solicitação Meio Ambiente)           Done\n",
       "2                 Atualizar Dashboard Diretoria           Done\n",
       "3               Reformulação Arquivos para 2024           Done\n",
       "4           Criar Centros de Custo ADM Fazendas           Done\n",
       "5                             Planilha Jurídico           Done\n",
       "6                       Relatórios de Auditoria           Done\n",
       "7                                Orçamento 2024           Done\n",
       "8                Reatório Financeiro - Lizandra       Canceled\n",
       "9                             Demandas Diversas        Backlog\n",
       "10                                Relatórios RH       Canceled\n",
       "11     Parametrização Modelo de Custos Fazendas           Done\n",
       "12                                     Reuniões        Backlog\n",
       "13   Atualizar reunião dos gestores para dia 20           Done\n",
       "14                      Planilha Pesquisa Clima           Done\n",
       "15                    Relatórios Pós-Fechamento           Done"
      ]
     },
     "execution_count": 9,
     "metadata": {},
     "output_type": "execute_result"
    }
   ],
   "source": [
    "pd.DataFrame(data_transform)"
   ]
  }
 ],
 "metadata": {
  "kernelspec": {
   "display_name": "venv",
   "language": "python",
   "name": "python3"
  },
  "language_info": {
   "codemirror_mode": {
    "name": "ipython",
    "version": 3
   },
   "file_extension": ".py",
   "mimetype": "text/x-python",
   "name": "python",
   "nbconvert_exporter": "python",
   "pygments_lexer": "ipython3",
   "version": "3.12.1"
  }
 },
 "nbformat": 4,
 "nbformat_minor": 2
}
